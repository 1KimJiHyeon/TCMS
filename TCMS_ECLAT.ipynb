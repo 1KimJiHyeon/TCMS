{
  "nbformat": 4,
  "nbformat_minor": 0,
  "metadata": {
    "colab": {
      "name": "TCMS_ECLAT.ipynb",
      "provenance": [],
      "private_outputs": true,
      "collapsed_sections": []
    },
    "kernelspec": {
      "name": "python3",
      "display_name": "Python 3"
    }
  },
  "cells": [
    {
      "cell_type": "code",
      "metadata": {
        "id": "SDaKH7iLHhP7",
        "colab_type": "code",
        "colab": {}
      },
      "source": [
        "pip install conda pyfim"
      ],
      "execution_count": null,
      "outputs": []
    },
    {
      "cell_type": "code",
      "metadata": {
        "id": "BaGCJ4IffyHA",
        "colab_type": "code",
        "colab": {}
      },
      "source": [
        "from fim import eclat"
      ],
      "execution_count": null,
      "outputs": []
    },
    {
      "cell_type": "code",
      "metadata": {
        "id": "iP6ejqygKHMb",
        "colab_type": "code",
        "colab": {}
      },
      "source": [
        "transactions = [['660','663','665','750','756'],\n",
        "['660','665'],\n",
        "['665','204','104'],\n",
        "['104','700','721','665','304'],\n",
        "['104','660','700','721','211'],\n",
        "['660','750'],\n",
        "['104','660','663','997','992','912'],\n",
        "['660','663'],\n",
        "['660','750','665'],\n",
        "['660','74','400','300','600'],\n",
        "['212','339','302','997','660'],\n",
        "['997','883','660','665'],\n",
        "['660'],\n",
        "['660','104','883','326'],\n",
        "['104','211','325','750','756'],\n",
        "['217','660','883'],\n",
        "['997','665','660','501','524','217'],\n",
        "['104','665']]"
      ],
      "execution_count": null,
      "outputs": []
    },
    {
      "cell_type": "code",
      "metadata": {
        "id": "obM6iuXdOO0x",
        "colab_type": "code",
        "colab": {}
      },
      "source": [
        "rules = eclat(transactions,zmin=1) # minimum number of items per item set ==> 1"
      ],
      "execution_count": null,
      "outputs": []
    },
    {
      "cell_type": "code",
      "metadata": {
        "id": "FL5C3Ii2gc5V",
        "colab_type": "code",
        "colab": {}
      },
      "source": [
        "rules"
      ],
      "execution_count": null,
      "outputs": []
    }
  ]
}